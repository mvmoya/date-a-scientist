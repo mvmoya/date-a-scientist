{
 "cells": [
  {
   "cell_type": "markdown",
   "metadata": {},
   "source": [
    "### Introduction\n",
    "\n",
    "\n",
    "In this capstone, you will create a presentation about your findings in this OkCupid dataset.\n",
    "\n",
    "\n",
    "The purpose of this capstone is to practice formulating questions and implementing Machine Learning techniques to answer those questions. We will give you guidance about the kinds of questions we asked, and the kinds of methods we used to answer those questions. But the questions you ask and how you answer them are entirely up to you. We're excited to see what kinds of different things you explore.\n",
    "Compared to the other projects you have completed this far, we are requiring few restrictions on how you structure your code. The project is far more open-ended, and you should use your creativity. In addition, much of the code you write for later parts of this project will depend on how you decided to implement earlier parts. **Therefore, we strongly encourage you to read through the entire assignment before writing any code.**"
   ]
  },
  {
   "cell_type": "markdown",
   "metadata": {},
   "source": [
    "### Load in the DataFrame\n",
    "\n",
    "\n",
    "The data is stored in **profiles.csv**. We can start to work with it in **dating.py** by using Pandas, which we have imported for you with the line:\n",
    "\n",
    "\n",
    "```\n",
    "import pandas as pd\n",
    "```\n",
    "\n",
    "\n",
    "and then loading the csv into a DataFrame: \n",
    "\n",
    "\n",
    "```\n",
    "df = pd.read_csv(\"profiles.csv\")\n",
    "```\n"
   ]
  },
  {
   "cell_type": "code",
   "execution_count": 1,
   "metadata": {},
   "outputs": [],
   "source": [
    "import pandas as pd\n",
    "import numpy as np\n",
    "from matplotlib import pyplot as plt\n",
    "\n",
    "df = pd.read_csv('profiles.csv')"
   ]
  },
  {
   "cell_type": "markdown",
   "metadata": {},
   "source": [
    "### Explore the Data\n",
    "\n",
    "\n",
    "Let's make sure we understand what these columns represent!\n",
    "\n",
    "Pick some columns and call `.head()` on them to see the first five rows of data. For example, we were curious about `job`, so we called:\n",
    "\n",
    "\n",
    "```\n",
    "df.job.head()\n",
    "```\n",
    "\n",
    "You can also call `value_counts()` on a column to figure out what possible responses there are, and how many of each response there was."
   ]
  },
  {
   "cell_type": "code",
   "execution_count": 2,
   "metadata": {},
   "outputs": [
    {
     "name": "stdout",
     "output_type": "stream",
     "text": [
      "0                 transportation\n",
      "1           hospitality / travel\n",
      "2                            NaN\n",
      "3                        student\n",
      "4    artistic / musical / writer\n",
      "Name: job, dtype: object\n"
     ]
    }
   ],
   "source": [
    "print(df.job.head())"
   ]
  },
  {
   "cell_type": "markdown",
   "metadata": {},
   "source": [
    "### Visualize some of the Data\n",
    "\n",
    "\n",
    "We can start to build graphs from the data by first importing Matplotlib:\n",
    "\n",
    "\n",
    "```\n",
    "from matplotlib import pyplot as plt\n",
    "```\n",
    "\n",
    "\n",
    "and then making some plots!\n",
    "\n",
    "For example, we were curious about the distribution of ages on the site, so we made a histogram of the `age` column:\n",
    "\n",
    "\n",
    "```\n",
    "plt.hist(df.age, bins=20)\n",
    "plt.xlabel(\"Age\")\n",
    "plt.ylabel(\"Frequency\")\n",
    "plt.xlim(16, 80)\n",
    "plt.show()\n",
    "```\n",
    "\n",
    "\n",
    "Try this code in your own file and take a look at the histogram it produces!"
   ]
  },
  {
   "cell_type": "code",
   "execution_count": 3,
   "metadata": {},
   "outputs": [
    {
     "data": {
      "image/png": "[encoded data removed]",
      "text/plain": [
       "<Figure size 432x288 with 1 Axes>"
      ]
     },
     "metadata": {},
     "output_type": "display_data"
    }
   ],
   "source": [
    "plt.hist(df.age, bins=20)\n",
    "plt.xlabel('Age')\n",
    "plt.ylabel('Frequency')\n",
    "plt.xlim(16, 80)\n",
    "plt.show()"
   ]
  },
  {
   "cell_type": "markdown",
   "metadata": {},
   "source": [
    "### Formulate a Question\n",
    "\n",
    "\n",
    "As we started to look at this data, we started to get more and more curious about Zodiac signs. First, we looked at all of the possible values for Zodiac signs:\n",
    "\n",
    "\n",
    "```\n",
    "df.sign.value_counts()\n",
    "```\n",
    "\n",
    "\n",
    "We started to wonder if there was a way to predict a user's Zodiac sign from the information in their profile. Thinking about the columns we had already explored, we thought that maybe we could classify Zodiac signs using drinking, smoking, drugs, and essays as our features."
   ]
  },
  {
   "cell_type": "code",
   "execution_count": 4,
   "metadata": {},
   "outputs": [
    {
     "name": "stdout",
     "output_type": "stream",
     "text": [
      "gemini and it&rsquo;s fun to think about         1782\n",
      "scorpio and it&rsquo;s fun to think about        1772\n",
      "leo and it&rsquo;s fun to think about            1692\n",
      "libra and it&rsquo;s fun to think about          1649\n",
      "taurus and it&rsquo;s fun to think about         1640\n",
      "cancer and it&rsquo;s fun to think about         1597\n",
      "pisces and it&rsquo;s fun to think about         1592\n",
      "sagittarius and it&rsquo;s fun to think about    1583\n",
      "virgo and it&rsquo;s fun to think about          1574\n",
      "aries and it&rsquo;s fun to think about          1573\n",
      "aquarius and it&rsquo;s fun to think about       1503\n",
      "virgo but it doesn&rsquo;t matter                1497\n",
      "leo but it doesn&rsquo;t matter                  1457\n",
      "cancer but it doesn&rsquo;t matter               1454\n",
      "gemini but it doesn&rsquo;t matter               1453\n",
      "taurus but it doesn&rsquo;t matter               1450\n",
      "libra but it doesn&rsquo;t matter                1408\n",
      "aquarius but it doesn&rsquo;t matter             1408\n",
      "capricorn and it&rsquo;s fun to think about      1376\n",
      "sagittarius but it doesn&rsquo;t matter          1375\n",
      "aries but it doesn&rsquo;t matter                1373\n",
      "capricorn but it doesn&rsquo;t matter            1319\n",
      "pisces but it doesn&rsquo;t matter               1300\n",
      "scorpio but it doesn&rsquo;t matter              1264\n",
      "leo                                              1159\n",
      "libra                                            1098\n",
      "cancer                                           1092\n",
      "virgo                                            1029\n",
      "scorpio                                          1020\n",
      "gemini                                           1013\n",
      "taurus                                           1001\n",
      "aries                                             996\n",
      "pisces                                            992\n",
      "aquarius                                          954\n",
      "sagittarius                                       937\n",
      "capricorn                                         833\n",
      "scorpio and it matters a lot                       78\n",
      "leo and it matters a lot                           66\n",
      "aquarius and it matters a lot                      63\n",
      "cancer and it matters a lot                        63\n",
      "gemini and it matters a lot                        62\n",
      "pisces and it matters a lot                        62\n",
      "libra and it matters a lot                         52\n",
      "taurus and it matters a lot                        49\n",
      "aries and it matters a lot                         47\n",
      "sagittarius and it matters a lot                   47\n",
      "capricorn and it matters a lot                     45\n",
      "virgo and it matters a lot                         41\n",
      "Name: sign, dtype: int64\n"
     ]
    }
   ],
   "source": [
    "print(df.sign.value_counts())"
   ]
  },
  {
   "cell_type": "markdown",
   "metadata": {},
   "source": [
    "### Augment your Data\n",
    "\n",
    "\n",
    "In order to answer the question you've formulated, you will probably need to create some new columns in the DataFrame. This is especially true because so much of our data here is categorical (i.e. `diet` consists of the options `vegan`, `vegetarian`, `anything`, etc. instead of numerical values).\n",
    "\n",
    "\n",
    "Categorical data is great to use as labels, but we want to create some numerical data as well to use for features.\n",
    "\n",
    "\n",
    "For our question about Zodiac signs, we wanted to transform the `drinks` column into numerical data. We used:\n",
    "\n",
    "\n",
    "```\n",
    "drink_mapping = {\"not at all\": 0, \"rarely\": 1, \"socially\": 2, \"often\": 3, \"very often\": 4, \"desperately\": 5}\n",
    "\n",
    "\n",
    "all_data[\"drinks_code\"] = all_data.drinks.map(drink_mapping)\n",
    "```\n",
    "\n",
    "\n",
    "These lines of code created a new column called 'drinks_code' that mapped the following `drinks` values to these numbers:\n",
    "\n",
    "\n",
    "| drinks      | drinks_code |\n",
    "|-------------|-------------|\n",
    "| not at all  | 0           |\n",
    "| rarely      | 1           |\n",
    "| socially    | 2           |\n",
    "| often       | 3           |\n",
    "| very often  | 4           |\n",
    "| desperately | 5           |\n",
    "\n",
    "\n",
    "We did the same for `smokes` and `drugs`.\n",
    "\n",
    "\n",
    "We also wanted some numerical data about the short answer essays. We combined them all into one string, took out the `NaN`s, and then created a new column called `essay_len`:\n",
    "\n",
    "\n",
    "```\n",
    "essay_cols = [\"essay0\",\"essay1\",\"essay2\",\"essay3\",\"essay4\",\"essay5\",\"essay6\",\"essay7\",\"essay8\",\"essay9\"]\n",
    "```"
   ]
  },
  {
   "cell_type": "code",
   "execution_count": null,
   "metadata": {},
   "outputs": [],
   "source": []
  },
  {
   "cell_type": "markdown",
   "metadata": {},
   "source": [
    "# Removing the NaNs\n",
    "all_essays = all_data[essay_cols].replace(np.nan, '', regex=True)\n",
    "# Combining the essays\n",
    "all_essays = all_essays[essay_cols].apply(lambda x: ' '.join(x), axis=1)\n",
    "\n",
    "\n",
    "all_data[\"essay_len\"] = all_essays.apply(lambda x: len(x)))\n",
    "```\n",
    "\n",
    "\n",
    "We also created a column with average word length and a column with the frequency of the words \"I\" or \"me\" appearing in the essays."
   ]
  },
  {
   "cell_type": "code",
   "execution_count": null,
   "metadata": {},
   "outputs": [],
   "source": []
  },
  {
   "cell_type": "markdown",
   "metadata": {},
   "source": [
    "### Normalize your Data!\n",
    "\n",
    "\n",
    "In order to get accurate results, we should make sure our numerical data all has the same weight.\n",
    "\n",
    "\n",
    "For our Zodiac features, we used:\n",
    "\n",
    "\n",
    "```\n",
    "feature_data = all_data[['smokes_code', 'drinks_code', 'drugs_code', 'essay_len', 'avg_word_length']]\n",
    "\n",
    "\n",
    "x = feature_data.values\n",
    "min_max_scaler = preprocessing.MinMaxScaler()\n",
    "x_scaled = min_max_scaler.fit_transform(x)\n",
    "\n",
    "\n",
    "feature_data = pd.DataFrame(x_scaled, columns=feature_data.columns)\n",
    "```"
   ]
  },
  {
   "cell_type": "code",
   "execution_count": null,
   "metadata": {},
   "outputs": [],
   "source": []
  },
  {
   "cell_type": "markdown",
   "metadata": {},
   "source": [
    "### Use Classification Techniques\n",
    "\n",
    "\n",
    "We have learned how to perform classification in a few different ways.\n",
    "\n",
    "\n",
    "- We learned about K-Nearest Neighbors by exploring IMDB ratings of popular movies \n",
    "- We learned about Support Vector Machines by exploring baseball statistics\n",
    "- We learned about Naive Bayes by exploring Amazon Reviews\n",
    "\n",
    "\n",
    "Some questions we used classification to tackle were:\n",
    "\n",
    "\n",
    "- Can we predict sex with education level and income??\n",
    "- Can we predict education level with essay text word counts?"
   ]
  },
  {
   "cell_type": "code",
   "execution_count": null,
   "metadata": {},
   "outputs": [],
   "source": []
  },
  {
   "cell_type": "markdown",
   "metadata": {},
   "source": [
    "### Use Regression Techniques\n",
    "\n",
    "\n",
    "We have learned how to perform Multiple Linear Regression by playing with StreetEasy apartment data. Is there a way we can apply the techniques we learned to this dataset?\n",
    "\n",
    "\n",
    "Some questions we used regression to tackle were:\n",
    "\n",
    "\n",
    "- Predict income with length of essays and average word length?\n",
    "- Predict age with the frequency of \"I\" or \"me\" in essays?\n",
    "\n",
    "\n",
    "We also learned about K-Nearest Neighbors Regression. Which form of regression works better to answer your question?"
   ]
  },
  {
   "cell_type": "code",
   "execution_count": null,
   "metadata": {},
   "outputs": [],
   "source": []
  },
  {
   "cell_type": "markdown",
   "metadata": {},
   "source": [
    "### Analyze the Accuracy, Precision and Recall\n",
    "\n",
    "\n",
    "After you have trained your model and run it, you will probably be curious about how well it did.\n",
    "\n",
    "\n",
    "Find the accuracy, precision, and recall of each model you used, and create graphs showing how they changed.\n",
    "\n",
    "\n",
    "For our question of classifying Zodiac signs, one graph we produced showed classification accuracy versus `k` (for K-Nearest Neighbors):\n",
    "![accuracy vs k](https://s3.amazonaws.com/codecademy-content/programs/machine-learning/capstone/Zodiac_Accuracy.png)\n",
    "\n",
    "\n",
    "The accuracy we would expect from predicting a Zodiac sign by randomly selecting one would be 1/12, or 0.0833. Our model did not significantly outperform this number. We were unimpressed."
   ]
  },
  {
   "cell_type": "code",
   "execution_count": null,
   "metadata": {},
   "outputs": [],
   "source": []
  },
  {
   "cell_type": "markdown",
   "metadata": {},
   "source": [
    "### Create your Presentation\n",
    "\n",
    "\n",
    "We want to see:\n",
    "\n",
    "\n",
    "- at least two graphs containing exploration of the dataset\n",
    "- a statement of your question (or questions!) and how you arrived there \n",
    "- the explanation of at least two new columns you created and how you did it\n",
    "- the comparison between two classification approaches, including a qualitative discussion of simplicity, time to run the model, and accuracy, precision, and/or recall\n",
    "- the comparison between two regression approaches, including a qualitative discussion of simplicity, time to run the model, and accuracy, precision, and/or recall\n",
    "- an overall conclusion, with a preliminary answer to your initial question(s), next steps, and what other data you would like to have in order to better answer your question(s)\n",
    "\n",
    "\n",
    "Good luck!"
   ]
  },
  {
   "cell_type": "code",
   "execution_count": null,
   "metadata": {},
   "outputs": [],
   "source": []
  }
 ],
 "metadata": {
  "kernelspec": {
   "display_name": "Python 2",
   "language": "python",
   "name": "python2"
  },
  "language_info": {
   "codemirror_mode": {
    "name": "ipython",
    "version": 2
   },
   "file_extension": ".py",
   "mimetype": "text/x-python",
   "name": "python",
   "nbconvert_exporter": "python",
   "pygments_lexer": "ipython2",
   "version": "2.7.14"
  }
 },
 "nbformat": 4,
 "nbformat_minor": 2
}
